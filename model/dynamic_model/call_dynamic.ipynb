{
 "cells": [
  {
   "cell_type": "code",
   "execution_count": null,
   "id": "2bc3b73a",
   "metadata": {},
   "outputs": [],
   "source": [
    "from langchain_google_genai import ChatGoogleGenerativeAI\n",
    "from langchain.agents import create_agent\n",
    "from langchain.agents.middleware import wrap_model_call, ModelRequest, ModelResponse\n",
    "\n",
    "basic_model = ChatGoogleGenerativeAI(model=\"gemini-2.5-flash\")\n",
    "advanced_model = ChatGoogleGenerativeAI(model=\"gemini-2.5-pro\")\n",
    "\n",
    "@wrap_model_call\n",
    "def switch_model_selection(request:ModelRequest, handler) -> ModelResponse:\n",
    "    \"\"\"Example of dynamic model selection\"\"\"\n",
    "    message_count = len(request.state[\"messages\"])\n",
    "\n",
    "    # change based on the message len.\n",
    "    # if size > 15, use an advanced model\n",
    "\n",
    "    if len(message_count) > 15:\n",
    "        model = advanced_model\n",
    "    else:\n",
    "        model = basic_model\n",
    "    \n",
    "    request.model = model\n",
    "    return handler(request)\n",
    "\n",
    "agent = create_agent(\n",
    "    model=basic_model,\n",
    "    middleware=[switch_model_selection]\n",
    ")\n"
   ]
  }
 ],
 "metadata": {
  "kernelspec": {
   "display_name": "venv (3.13.5)",
   "language": "python",
   "name": "python3"
  },
  "language_info": {
   "codemirror_mode": {
    "name": "ipython",
    "version": 3
   },
   "file_extension": ".py",
   "mimetype": "text/x-python",
   "name": "python",
   "nbconvert_exporter": "python",
   "pygments_lexer": "ipython3",
   "version": "3.13.5"
  }
 },
 "nbformat": 4,
 "nbformat_minor": 5
}
