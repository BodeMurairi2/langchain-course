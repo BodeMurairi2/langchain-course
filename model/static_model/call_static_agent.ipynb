{
 "cells": [
  {
   "cell_type": "code",
   "execution_count": 1,
   "id": "1c46d598-fe2c-4f55-8db6-bba76e682bff",
   "metadata": {},
   "outputs": [
    {
     "name": "stdout",
     "output_type": "stream",
     "text": [
      "Requirement already satisfied: langchain[google-genai] in /home/bode-murairi/Documents/programming/courses/langchain-course/venv/lib/python3.13/site-packages (1.0.0)\n",
      "Collecting langchain[google-genai]\n",
      "  Downloading langchain-1.0.2-py3-none-any.whl.metadata (4.7 kB)\n",
      "Requirement already satisfied: langchain-core<2.0.0,>=1.0.0 in /home/bode-murairi/Documents/programming/courses/langchain-course/venv/lib/python3.13/site-packages (from langchain[google-genai]) (1.0.0)\n",
      "Requirement already satisfied: langgraph<1.1.0,>=1.0.0 in /home/bode-murairi/Documents/programming/courses/langchain-course/venv/lib/python3.13/site-packages (from langchain[google-genai]) (1.0.0)\n",
      "Requirement already satisfied: pydantic<3.0.0,>=2.7.4 in /home/bode-murairi/Documents/programming/courses/langchain-course/venv/lib/python3.13/site-packages (from langchain[google-genai]) (2.12.3)\n",
      "Requirement already satisfied: langchain-google-genai in /home/bode-murairi/Documents/programming/courses/langchain-course/venv/lib/python3.13/site-packages (from langchain[google-genai]) (3.0.0)\n",
      "Requirement already satisfied: jsonpatch<2.0.0,>=1.33.0 in /home/bode-murairi/Documents/programming/courses/langchain-course/venv/lib/python3.13/site-packages (from langchain-core<2.0.0,>=1.0.0->langchain[google-genai]) (1.33)\n",
      "Requirement already satisfied: langsmith<1.0.0,>=0.3.45 in /home/bode-murairi/Documents/programming/courses/langchain-course/venv/lib/python3.13/site-packages (from langchain-core<2.0.0,>=1.0.0->langchain[google-genai]) (0.4.37)\n",
      "Requirement already satisfied: packaging<26.0.0,>=23.2.0 in /home/bode-murairi/Documents/programming/courses/langchain-course/venv/lib/python3.13/site-packages (from langchain-core<2.0.0,>=1.0.0->langchain[google-genai]) (25.0)\n",
      "Requirement already satisfied: pyyaml<7.0.0,>=5.3.0 in /home/bode-murairi/Documents/programming/courses/langchain-course/venv/lib/python3.13/site-packages (from langchain-core<2.0.0,>=1.0.0->langchain[google-genai]) (6.0.3)\n",
      "Requirement already satisfied: tenacity!=8.4.0,<10.0.0,>=8.1.0 in /home/bode-murairi/Documents/programming/courses/langchain-course/venv/lib/python3.13/site-packages (from langchain-core<2.0.0,>=1.0.0->langchain[google-genai]) (9.1.2)\n",
      "Requirement already satisfied: typing-extensions<5.0.0,>=4.7.0 in /home/bode-murairi/Documents/programming/courses/langchain-course/venv/lib/python3.13/site-packages (from langchain-core<2.0.0,>=1.0.0->langchain[google-genai]) (4.15.0)\n",
      "Requirement already satisfied: jsonpointer>=1.9 in /home/bode-murairi/Documents/programming/courses/langchain-course/venv/lib/python3.13/site-packages (from jsonpatch<2.0.0,>=1.33.0->langchain-core<2.0.0,>=1.0.0->langchain[google-genai]) (3.0.0)\n",
      "Requirement already satisfied: langgraph-checkpoint<3.0.0,>=2.1.0 in /home/bode-murairi/Documents/programming/courses/langchain-course/venv/lib/python3.13/site-packages (from langgraph<1.1.0,>=1.0.0->langchain[google-genai]) (2.1.2)\n",
      "Requirement already satisfied: langgraph-prebuilt<1.1.0,>=1.0.0 in /home/bode-murairi/Documents/programming/courses/langchain-course/venv/lib/python3.13/site-packages (from langgraph<1.1.0,>=1.0.0->langchain[google-genai]) (1.0.0)\n",
      "Requirement already satisfied: langgraph-sdk<0.3.0,>=0.2.2 in /home/bode-murairi/Documents/programming/courses/langchain-course/venv/lib/python3.13/site-packages (from langgraph<1.1.0,>=1.0.0->langchain[google-genai]) (0.2.9)\n",
      "Requirement already satisfied: xxhash>=3.5.0 in /home/bode-murairi/Documents/programming/courses/langchain-course/venv/lib/python3.13/site-packages (from langgraph<1.1.0,>=1.0.0->langchain[google-genai]) (3.6.0)\n",
      "Requirement already satisfied: ormsgpack>=1.10.0 in /home/bode-murairi/Documents/programming/courses/langchain-course/venv/lib/python3.13/site-packages (from langgraph-checkpoint<3.0.0,>=2.1.0->langgraph<1.1.0,>=1.0.0->langchain[google-genai]) (1.11.0)\n",
      "Requirement already satisfied: httpx>=0.25.2 in /home/bode-murairi/Documents/programming/courses/langchain-course/venv/lib/python3.13/site-packages (from langgraph-sdk<0.3.0,>=0.2.2->langgraph<1.1.0,>=1.0.0->langchain[google-genai]) (0.28.1)\n",
      "Requirement already satisfied: orjson>=3.10.1 in /home/bode-murairi/Documents/programming/courses/langchain-course/venv/lib/python3.13/site-packages (from langgraph-sdk<0.3.0,>=0.2.2->langgraph<1.1.0,>=1.0.0->langchain[google-genai]) (3.11.3)\n",
      "Requirement already satisfied: requests-toolbelt>=1.0.0 in /home/bode-murairi/Documents/programming/courses/langchain-course/venv/lib/python3.13/site-packages (from langsmith<1.0.0,>=0.3.45->langchain-core<2.0.0,>=1.0.0->langchain[google-genai]) (1.0.0)\n",
      "Requirement already satisfied: requests>=2.0.0 in /home/bode-murairi/Documents/programming/courses/langchain-course/venv/lib/python3.13/site-packages (from langsmith<1.0.0,>=0.3.45->langchain-core<2.0.0,>=1.0.0->langchain[google-genai]) (2.32.5)\n",
      "Requirement already satisfied: zstandard>=0.23.0 in /home/bode-murairi/Documents/programming/courses/langchain-course/venv/lib/python3.13/site-packages (from langsmith<1.0.0,>=0.3.45->langchain-core<2.0.0,>=1.0.0->langchain[google-genai]) (0.25.0)\n",
      "Requirement already satisfied: anyio in /home/bode-murairi/Documents/programming/courses/langchain-course/venv/lib/python3.13/site-packages (from httpx>=0.25.2->langgraph-sdk<0.3.0,>=0.2.2->langgraph<1.1.0,>=1.0.0->langchain[google-genai]) (4.11.0)\n",
      "Requirement already satisfied: certifi in /home/bode-murairi/Documents/programming/courses/langchain-course/venv/lib/python3.13/site-packages (from httpx>=0.25.2->langgraph-sdk<0.3.0,>=0.2.2->langgraph<1.1.0,>=1.0.0->langchain[google-genai]) (2025.10.5)\n",
      "Requirement already satisfied: httpcore==1.* in /home/bode-murairi/Documents/programming/courses/langchain-course/venv/lib/python3.13/site-packages (from httpx>=0.25.2->langgraph-sdk<0.3.0,>=0.2.2->langgraph<1.1.0,>=1.0.0->langchain[google-genai]) (1.0.9)\n",
      "Requirement already satisfied: idna in /home/bode-murairi/Documents/programming/courses/langchain-course/venv/lib/python3.13/site-packages (from httpx>=0.25.2->langgraph-sdk<0.3.0,>=0.2.2->langgraph<1.1.0,>=1.0.0->langchain[google-genai]) (3.11)\n",
      "Requirement already satisfied: h11>=0.16 in /home/bode-murairi/Documents/programming/courses/langchain-course/venv/lib/python3.13/site-packages (from httpcore==1.*->httpx>=0.25.2->langgraph-sdk<0.3.0,>=0.2.2->langgraph<1.1.0,>=1.0.0->langchain[google-genai]) (0.16.0)\n",
      "Requirement already satisfied: annotated-types>=0.6.0 in /home/bode-murairi/Documents/programming/courses/langchain-course/venv/lib/python3.13/site-packages (from pydantic<3.0.0,>=2.7.4->langchain[google-genai]) (0.7.0)\n",
      "Requirement already satisfied: pydantic-core==2.41.4 in /home/bode-murairi/Documents/programming/courses/langchain-course/venv/lib/python3.13/site-packages (from pydantic<3.0.0,>=2.7.4->langchain[google-genai]) (2.41.4)\n",
      "Requirement already satisfied: typing-inspection>=0.4.2 in /home/bode-murairi/Documents/programming/courses/langchain-course/venv/lib/python3.13/site-packages (from pydantic<3.0.0,>=2.7.4->langchain[google-genai]) (0.4.2)\n",
      "Requirement already satisfied: charset_normalizer<4,>=2 in /home/bode-murairi/Documents/programming/courses/langchain-course/venv/lib/python3.13/site-packages (from requests>=2.0.0->langsmith<1.0.0,>=0.3.45->langchain-core<2.0.0,>=1.0.0->langchain[google-genai]) (3.4.4)\n",
      "Requirement already satisfied: urllib3<3,>=1.21.1 in /home/bode-murairi/Documents/programming/courses/langchain-course/venv/lib/python3.13/site-packages (from requests>=2.0.0->langsmith<1.0.0,>=0.3.45->langchain-core<2.0.0,>=1.0.0->langchain[google-genai]) (2.5.0)\n",
      "Requirement already satisfied: sniffio>=1.1 in /home/bode-murairi/Documents/programming/courses/langchain-course/venv/lib/python3.13/site-packages (from anyio->httpx>=0.25.2->langgraph-sdk<0.3.0,>=0.2.2->langgraph<1.1.0,>=1.0.0->langchain[google-genai]) (1.3.1)\n",
      "Requirement already satisfied: google-ai-generativelanguage<1.0.0,>=0.7.0 in /home/bode-murairi/Documents/programming/courses/langchain-course/venv/lib/python3.13/site-packages (from langchain-google-genai->langchain[google-genai]) (0.8.0)\n",
      "Requirement already satisfied: filetype<2.0.0,>=1.2.0 in /home/bode-murairi/Documents/programming/courses/langchain-course/venv/lib/python3.13/site-packages (from langchain-google-genai->langchain[google-genai]) (1.2.0)\n",
      "Requirement already satisfied: google-api-core!=2.0.*,!=2.1.*,!=2.10.*,!=2.2.*,!=2.3.*,!=2.4.*,!=2.5.*,!=2.6.*,!=2.7.*,!=2.8.*,!=2.9.*,<3.0.0,>=1.34.1 in /home/bode-murairi/Documents/programming/courses/langchain-course/venv/lib/python3.13/site-packages (from google-api-core[grpc]!=2.0.*,!=2.1.*,!=2.10.*,!=2.2.*,!=2.3.*,!=2.4.*,!=2.5.*,!=2.6.*,!=2.7.*,!=2.8.*,!=2.9.*,<3.0.0,>=1.34.1->google-ai-generativelanguage<1.0.0,>=0.7.0->langchain-google-genai->langchain[google-genai]) (2.26.0)\n",
      "Requirement already satisfied: google-auth!=2.24.0,!=2.25.0,<3.0.0,>=2.14.1 in /home/bode-murairi/Documents/programming/courses/langchain-course/venv/lib/python3.13/site-packages (from google-ai-generativelanguage<1.0.0,>=0.7.0->langchain-google-genai->langchain[google-genai]) (2.41.1)\n",
      "Requirement already satisfied: grpcio<2.0.0,>=1.33.2 in /home/bode-murairi/Documents/programming/courses/langchain-course/venv/lib/python3.13/site-packages (from google-ai-generativelanguage<1.0.0,>=0.7.0->langchain-google-genai->langchain[google-genai]) (1.75.1)\n",
      "Requirement already satisfied: proto-plus<2.0.0,>=1.22.3 in /home/bode-murairi/Documents/programming/courses/langchain-course/venv/lib/python3.13/site-packages (from google-ai-generativelanguage<1.0.0,>=0.7.0->langchain-google-genai->langchain[google-genai]) (1.26.1)\n",
      "Requirement already satisfied: protobuf!=4.21.0,!=4.21.1,!=4.21.2,!=4.21.3,!=4.21.4,!=4.21.5,<7.0.0,>=3.20.2 in /home/bode-murairi/Documents/programming/courses/langchain-course/venv/lib/python3.13/site-packages (from google-ai-generativelanguage<1.0.0,>=0.7.0->langchain-google-genai->langchain[google-genai]) (6.33.0)\n",
      "Requirement already satisfied: googleapis-common-protos<2.0.0,>=1.56.2 in /home/bode-murairi/Documents/programming/courses/langchain-course/venv/lib/python3.13/site-packages (from google-api-core!=2.0.*,!=2.1.*,!=2.10.*,!=2.2.*,!=2.3.*,!=2.4.*,!=2.5.*,!=2.6.*,!=2.7.*,!=2.8.*,!=2.9.*,<3.0.0,>=1.34.1->google-api-core[grpc]!=2.0.*,!=2.1.*,!=2.10.*,!=2.2.*,!=2.3.*,!=2.4.*,!=2.5.*,!=2.6.*,!=2.7.*,!=2.8.*,!=2.9.*,<3.0.0,>=1.34.1->google-ai-generativelanguage<1.0.0,>=0.7.0->langchain-google-genai->langchain[google-genai]) (1.70.0)\n",
      "Requirement already satisfied: grpcio-status<2.0.0,>=1.33.2 in /home/bode-murairi/Documents/programming/courses/langchain-course/venv/lib/python3.13/site-packages (from google-api-core[grpc]!=2.0.*,!=2.1.*,!=2.10.*,!=2.2.*,!=2.3.*,!=2.4.*,!=2.5.*,!=2.6.*,!=2.7.*,!=2.8.*,!=2.9.*,<3.0.0,>=1.34.1->google-ai-generativelanguage<1.0.0,>=0.7.0->langchain-google-genai->langchain[google-genai]) (1.75.1)\n",
      "Requirement already satisfied: cachetools<7.0,>=2.0.0 in /home/bode-murairi/Documents/programming/courses/langchain-course/venv/lib/python3.13/site-packages (from google-auth!=2.24.0,!=2.25.0,<3.0.0,>=2.14.1->google-ai-generativelanguage<1.0.0,>=0.7.0->langchain-google-genai->langchain[google-genai]) (6.2.1)\n",
      "Requirement already satisfied: pyasn1-modules>=0.2.1 in /home/bode-murairi/Documents/programming/courses/langchain-course/venv/lib/python3.13/site-packages (from google-auth!=2.24.0,!=2.25.0,<3.0.0,>=2.14.1->google-ai-generativelanguage<1.0.0,>=0.7.0->langchain-google-genai->langchain[google-genai]) (0.4.2)\n",
      "Requirement already satisfied: rsa<5,>=3.1.4 in /home/bode-murairi/Documents/programming/courses/langchain-course/venv/lib/python3.13/site-packages (from google-auth!=2.24.0,!=2.25.0,<3.0.0,>=2.14.1->google-ai-generativelanguage<1.0.0,>=0.7.0->langchain-google-genai->langchain[google-genai]) (4.9.1)\n",
      "Requirement already satisfied: pyasn1>=0.1.3 in /home/bode-murairi/Documents/programming/courses/langchain-course/venv/lib/python3.13/site-packages (from rsa<5,>=3.1.4->google-auth!=2.24.0,!=2.25.0,<3.0.0,>=2.14.1->google-ai-generativelanguage<1.0.0,>=0.7.0->langchain-google-genai->langchain[google-genai]) (0.6.1)\n",
      "Downloading langchain-1.0.2-py3-none-any.whl (107 kB)\n",
      "Installing collected packages: langchain\n",
      "  Attempting uninstall: langchain\n",
      "    Found existing installation: langchain 1.0.0\n",
      "    Uninstalling langchain-1.0.0:\n",
      "      Successfully uninstalled langchain-1.0.0\n",
      "Successfully installed langchain-1.0.2\n",
      "Note: you may need to restart the kernel to use updated packages.\n",
      "Requirement already satisfied: python-dotenv in /home/bode-murairi/Documents/programming/courses/langchain-course/venv/lib/python3.13/site-packages (1.1.1)\n",
      "Note: you may need to restart the kernel to use updated packages.\n"
     ]
    }
   ],
   "source": [
    "%pip install -U \"langchain[google-genai]\"\n",
    "%pip install python-dotenv"
   ]
  },
  {
   "cell_type": "code",
   "execution_count": 2,
   "id": "7639f9a9",
   "metadata": {},
   "outputs": [
    {
     "name": "stdout",
     "output_type": "stream",
     "text": [
      "Requirement already satisfied: langchain-google-vertexai in /home/bode-murairi/Documents/programming/courses/langchain-course/venv/lib/python3.13/site-packages (3.0.0)\n",
      "Collecting langchain-google-vertexai\n",
      "  Downloading langchain_google_vertexai-3.0.1-py3-none-any.whl.metadata (5.2 kB)\n",
      "Requirement already satisfied: langchain-core<2.0.0,>=1.0.0 in /home/bode-murairi/Documents/programming/courses/langchain-course/venv/lib/python3.13/site-packages (from langchain-google-vertexai) (1.0.0)\n",
      "Requirement already satisfied: google-cloud-aiplatform<2.0.0,>=1.97.0 in /home/bode-murairi/Documents/programming/courses/langchain-course/venv/lib/python3.13/site-packages (from langchain-google-vertexai) (1.121.0)\n",
      "Requirement already satisfied: google-cloud-storage<3.0.0,>=2.18.0 in /home/bode-murairi/Documents/programming/courses/langchain-course/venv/lib/python3.13/site-packages (from langchain-google-vertexai) (2.19.0)\n",
      "Requirement already satisfied: httpx<1.0.0,>=0.28.0 in /home/bode-murairi/Documents/programming/courses/langchain-course/venv/lib/python3.13/site-packages (from langchain-google-vertexai) (0.28.1)\n",
      "Requirement already satisfied: httpx-sse<1.0.0,>=0.4.0 in /home/bode-murairi/Documents/programming/courses/langchain-course/venv/lib/python3.13/site-packages (from langchain-google-vertexai) (0.4.3)\n",
      "Requirement already satisfied: pydantic<3.0.0,>=2.9.0 in /home/bode-murairi/Documents/programming/courses/langchain-course/venv/lib/python3.13/site-packages (from langchain-google-vertexai) (2.12.3)\n",
      "Requirement already satisfied: validators<1.0.0,>=0.22.0 in /home/bode-murairi/Documents/programming/courses/langchain-course/venv/lib/python3.13/site-packages (from langchain-google-vertexai) (0.35.0)\n",
      "Requirement already satisfied: bottleneck<2.0.0,>=1.4.0 in /home/bode-murairi/Documents/programming/courses/langchain-course/venv/lib/python3.13/site-packages (from langchain-google-vertexai) (1.6.0)\n",
      "Requirement already satisfied: numexpr<3.0.0,>=2.8.6 in /home/bode-murairi/Documents/programming/courses/langchain-course/venv/lib/python3.13/site-packages (from langchain-google-vertexai) (2.14.1)\n",
      "Requirement already satisfied: pyarrow<22.0.0,>=19.0.1 in /home/bode-murairi/Documents/programming/courses/langchain-course/venv/lib/python3.13/site-packages (from langchain-google-vertexai) (21.0.0)\n",
      "Requirement already satisfied: numpy in /home/bode-murairi/Documents/programming/courses/langchain-course/venv/lib/python3.13/site-packages (from bottleneck<2.0.0,>=1.4.0->langchain-google-vertexai) (2.3.4)\n",
      "Requirement already satisfied: google-api-core!=2.0.*,!=2.1.*,!=2.2.*,!=2.3.*,!=2.4.*,!=2.5.*,!=2.6.*,!=2.7.*,<3.0.0,>=1.34.1 in /home/bode-murairi/Documents/programming/courses/langchain-course/venv/lib/python3.13/site-packages (from google-api-core[grpc]!=2.0.*,!=2.1.*,!=2.2.*,!=2.3.*,!=2.4.*,!=2.5.*,!=2.6.*,!=2.7.*,<3.0.0,>=1.34.1->google-cloud-aiplatform<2.0.0,>=1.97.0->langchain-google-vertexai) (2.26.0)\n",
      "Requirement already satisfied: google-auth<3.0.0,>=2.14.1 in /home/bode-murairi/Documents/programming/courses/langchain-course/venv/lib/python3.13/site-packages (from google-cloud-aiplatform<2.0.0,>=1.97.0->langchain-google-vertexai) (2.41.1)\n",
      "Requirement already satisfied: proto-plus<2.0.0,>=1.22.3 in /home/bode-murairi/Documents/programming/courses/langchain-course/venv/lib/python3.13/site-packages (from google-cloud-aiplatform<2.0.0,>=1.97.0->langchain-google-vertexai) (1.26.1)\n",
      "Requirement already satisfied: protobuf!=4.21.0,!=4.21.1,!=4.21.2,!=4.21.3,!=4.21.4,!=4.21.5,<7.0.0,>=3.20.2 in /home/bode-murairi/Documents/programming/courses/langchain-course/venv/lib/python3.13/site-packages (from google-cloud-aiplatform<2.0.0,>=1.97.0->langchain-google-vertexai) (6.33.0)\n",
      "Requirement already satisfied: packaging>=14.3 in /home/bode-murairi/Documents/programming/courses/langchain-course/venv/lib/python3.13/site-packages (from google-cloud-aiplatform<2.0.0,>=1.97.0->langchain-google-vertexai) (25.0)\n",
      "Requirement already satisfied: google-cloud-bigquery!=3.20.0,<4.0.0,>=1.15.0 in /home/bode-murairi/Documents/programming/courses/langchain-course/venv/lib/python3.13/site-packages (from google-cloud-aiplatform<2.0.0,>=1.97.0->langchain-google-vertexai) (3.38.0)\n",
      "Requirement already satisfied: google-cloud-resource-manager<3.0.0,>=1.3.3 in /home/bode-murairi/Documents/programming/courses/langchain-course/venv/lib/python3.13/site-packages (from google-cloud-aiplatform<2.0.0,>=1.97.0->langchain-google-vertexai) (1.14.2)\n",
      "Requirement already satisfied: shapely<3.0.0 in /home/bode-murairi/Documents/programming/courses/langchain-course/venv/lib/python3.13/site-packages (from google-cloud-aiplatform<2.0.0,>=1.97.0->langchain-google-vertexai) (2.1.2)\n",
      "Requirement already satisfied: google-genai<2.0.0,>=1.37.0 in /home/bode-murairi/Documents/programming/courses/langchain-course/venv/lib/python3.13/site-packages (from google-cloud-aiplatform<2.0.0,>=1.97.0->langchain-google-vertexai) (1.45.0)\n",
      "Requirement already satisfied: typing_extensions in /home/bode-murairi/Documents/programming/courses/langchain-course/venv/lib/python3.13/site-packages (from google-cloud-aiplatform<2.0.0,>=1.97.0->langchain-google-vertexai) (4.15.0)\n",
      "Requirement already satisfied: docstring_parser<1 in /home/bode-murairi/Documents/programming/courses/langchain-course/venv/lib/python3.13/site-packages (from google-cloud-aiplatform<2.0.0,>=1.97.0->langchain-google-vertexai) (0.17.0)\n",
      "Requirement already satisfied: googleapis-common-protos<2.0.0,>=1.56.2 in /home/bode-murairi/Documents/programming/courses/langchain-course/venv/lib/python3.13/site-packages (from google-api-core!=2.0.*,!=2.1.*,!=2.2.*,!=2.3.*,!=2.4.*,!=2.5.*,!=2.6.*,!=2.7.*,<3.0.0,>=1.34.1->google-api-core[grpc]!=2.0.*,!=2.1.*,!=2.2.*,!=2.3.*,!=2.4.*,!=2.5.*,!=2.6.*,!=2.7.*,<3.0.0,>=1.34.1->google-cloud-aiplatform<2.0.0,>=1.97.0->langchain-google-vertexai) (1.70.0)\n",
      "Requirement already satisfied: requests<3.0.0,>=2.18.0 in /home/bode-murairi/Documents/programming/courses/langchain-course/venv/lib/python3.13/site-packages (from google-api-core!=2.0.*,!=2.1.*,!=2.2.*,!=2.3.*,!=2.4.*,!=2.5.*,!=2.6.*,!=2.7.*,<3.0.0,>=1.34.1->google-api-core[grpc]!=2.0.*,!=2.1.*,!=2.2.*,!=2.3.*,!=2.4.*,!=2.5.*,!=2.6.*,!=2.7.*,<3.0.0,>=1.34.1->google-cloud-aiplatform<2.0.0,>=1.97.0->langchain-google-vertexai) (2.32.5)\n",
      "Requirement already satisfied: grpcio<2.0.0,>=1.33.2 in /home/bode-murairi/Documents/programming/courses/langchain-course/venv/lib/python3.13/site-packages (from google-api-core[grpc]!=2.0.*,!=2.1.*,!=2.2.*,!=2.3.*,!=2.4.*,!=2.5.*,!=2.6.*,!=2.7.*,<3.0.0,>=1.34.1->google-cloud-aiplatform<2.0.0,>=1.97.0->langchain-google-vertexai) (1.75.1)\n",
      "Requirement already satisfied: grpcio-status<2.0.0,>=1.33.2 in /home/bode-murairi/Documents/programming/courses/langchain-course/venv/lib/python3.13/site-packages (from google-api-core[grpc]!=2.0.*,!=2.1.*,!=2.2.*,!=2.3.*,!=2.4.*,!=2.5.*,!=2.6.*,!=2.7.*,<3.0.0,>=1.34.1->google-cloud-aiplatform<2.0.0,>=1.97.0->langchain-google-vertexai) (1.75.1)\n",
      "Requirement already satisfied: cachetools<7.0,>=2.0.0 in /home/bode-murairi/Documents/programming/courses/langchain-course/venv/lib/python3.13/site-packages (from google-auth<3.0.0,>=2.14.1->google-cloud-aiplatform<2.0.0,>=1.97.0->langchain-google-vertexai) (6.2.1)\n",
      "Requirement already satisfied: pyasn1-modules>=0.2.1 in /home/bode-murairi/Documents/programming/courses/langchain-course/venv/lib/python3.13/site-packages (from google-auth<3.0.0,>=2.14.1->google-cloud-aiplatform<2.0.0,>=1.97.0->langchain-google-vertexai) (0.4.2)\n",
      "Requirement already satisfied: rsa<5,>=3.1.4 in /home/bode-murairi/Documents/programming/courses/langchain-course/venv/lib/python3.13/site-packages (from google-auth<3.0.0,>=2.14.1->google-cloud-aiplatform<2.0.0,>=1.97.0->langchain-google-vertexai) (4.9.1)\n",
      "Requirement already satisfied: google-cloud-core<3.0.0,>=2.4.1 in /home/bode-murairi/Documents/programming/courses/langchain-course/venv/lib/python3.13/site-packages (from google-cloud-bigquery!=3.20.0,<4.0.0,>=1.15.0->google-cloud-aiplatform<2.0.0,>=1.97.0->langchain-google-vertexai) (2.4.3)\n",
      "Requirement already satisfied: google-resumable-media<3.0.0,>=2.0.0 in /home/bode-murairi/Documents/programming/courses/langchain-course/venv/lib/python3.13/site-packages (from google-cloud-bigquery!=3.20.0,<4.0.0,>=1.15.0->google-cloud-aiplatform<2.0.0,>=1.97.0->langchain-google-vertexai) (2.7.2)\n",
      "Requirement already satisfied: python-dateutil<3.0.0,>=2.8.2 in /home/bode-murairi/Documents/programming/courses/langchain-course/venv/lib/python3.13/site-packages (from google-cloud-bigquery!=3.20.0,<4.0.0,>=1.15.0->google-cloud-aiplatform<2.0.0,>=1.97.0->langchain-google-vertexai) (2.9.0.post0)\n",
      "Requirement already satisfied: grpc-google-iam-v1<1.0.0,>=0.14.0 in /home/bode-murairi/Documents/programming/courses/langchain-course/venv/lib/python3.13/site-packages (from google-cloud-resource-manager<3.0.0,>=1.3.3->google-cloud-aiplatform<2.0.0,>=1.97.0->langchain-google-vertexai) (0.14.3)\n",
      "Requirement already satisfied: google-crc32c<2.0dev,>=1.0 in /home/bode-murairi/Documents/programming/courses/langchain-course/venv/lib/python3.13/site-packages (from google-cloud-storage<3.0.0,>=2.18.0->langchain-google-vertexai) (1.7.1)\n",
      "Requirement already satisfied: anyio<5.0.0,>=4.8.0 in /home/bode-murairi/Documents/programming/courses/langchain-course/venv/lib/python3.13/site-packages (from google-genai<2.0.0,>=1.37.0->google-cloud-aiplatform<2.0.0,>=1.97.0->langchain-google-vertexai) (4.11.0)\n",
      "Requirement already satisfied: tenacity<9.2.0,>=8.2.3 in /home/bode-murairi/Documents/programming/courses/langchain-course/venv/lib/python3.13/site-packages (from google-genai<2.0.0,>=1.37.0->google-cloud-aiplatform<2.0.0,>=1.97.0->langchain-google-vertexai) (9.1.2)\n",
      "Requirement already satisfied: websockets<15.1.0,>=13.0.0 in /home/bode-murairi/Documents/programming/courses/langchain-course/venv/lib/python3.13/site-packages (from google-genai<2.0.0,>=1.37.0->google-cloud-aiplatform<2.0.0,>=1.97.0->langchain-google-vertexai) (15.0.1)\n",
      "Requirement already satisfied: idna>=2.8 in /home/bode-murairi/Documents/programming/courses/langchain-course/venv/lib/python3.13/site-packages (from anyio<5.0.0,>=4.8.0->google-genai<2.0.0,>=1.37.0->google-cloud-aiplatform<2.0.0,>=1.97.0->langchain-google-vertexai) (3.11)\n",
      "Requirement already satisfied: sniffio>=1.1 in /home/bode-murairi/Documents/programming/courses/langchain-course/venv/lib/python3.13/site-packages (from anyio<5.0.0,>=4.8.0->google-genai<2.0.0,>=1.37.0->google-cloud-aiplatform<2.0.0,>=1.97.0->langchain-google-vertexai) (1.3.1)\n",
      "Requirement already satisfied: certifi in /home/bode-murairi/Documents/programming/courses/langchain-course/venv/lib/python3.13/site-packages (from httpx<1.0.0,>=0.28.0->langchain-google-vertexai) (2025.10.5)\n",
      "Requirement already satisfied: httpcore==1.* in /home/bode-murairi/Documents/programming/courses/langchain-course/venv/lib/python3.13/site-packages (from httpx<1.0.0,>=0.28.0->langchain-google-vertexai) (1.0.9)\n",
      "Requirement already satisfied: h11>=0.16 in /home/bode-murairi/Documents/programming/courses/langchain-course/venv/lib/python3.13/site-packages (from httpcore==1.*->httpx<1.0.0,>=0.28.0->langchain-google-vertexai) (0.16.0)\n",
      "Requirement already satisfied: jsonpatch<2.0.0,>=1.33.0 in /home/bode-murairi/Documents/programming/courses/langchain-course/venv/lib/python3.13/site-packages (from langchain-core<2.0.0,>=1.0.0->langchain-google-vertexai) (1.33)\n",
      "Requirement already satisfied: langsmith<1.0.0,>=0.3.45 in /home/bode-murairi/Documents/programming/courses/langchain-course/venv/lib/python3.13/site-packages (from langchain-core<2.0.0,>=1.0.0->langchain-google-vertexai) (0.4.37)\n",
      "Requirement already satisfied: pyyaml<7.0.0,>=5.3.0 in /home/bode-murairi/Documents/programming/courses/langchain-course/venv/lib/python3.13/site-packages (from langchain-core<2.0.0,>=1.0.0->langchain-google-vertexai) (6.0.3)\n",
      "Requirement already satisfied: jsonpointer>=1.9 in /home/bode-murairi/Documents/programming/courses/langchain-course/venv/lib/python3.13/site-packages (from jsonpatch<2.0.0,>=1.33.0->langchain-core<2.0.0,>=1.0.0->langchain-google-vertexai) (3.0.0)\n",
      "Requirement already satisfied: orjson>=3.9.14 in /home/bode-murairi/Documents/programming/courses/langchain-course/venv/lib/python3.13/site-packages (from langsmith<1.0.0,>=0.3.45->langchain-core<2.0.0,>=1.0.0->langchain-google-vertexai) (3.11.3)\n",
      "Requirement already satisfied: requests-toolbelt>=1.0.0 in /home/bode-murairi/Documents/programming/courses/langchain-course/venv/lib/python3.13/site-packages (from langsmith<1.0.0,>=0.3.45->langchain-core<2.0.0,>=1.0.0->langchain-google-vertexai) (1.0.0)\n",
      "Requirement already satisfied: zstandard>=0.23.0 in /home/bode-murairi/Documents/programming/courses/langchain-course/venv/lib/python3.13/site-packages (from langsmith<1.0.0,>=0.3.45->langchain-core<2.0.0,>=1.0.0->langchain-google-vertexai) (0.25.0)\n",
      "Requirement already satisfied: annotated-types>=0.6.0 in /home/bode-murairi/Documents/programming/courses/langchain-course/venv/lib/python3.13/site-packages (from pydantic<3.0.0,>=2.9.0->langchain-google-vertexai) (0.7.0)\n",
      "Requirement already satisfied: pydantic-core==2.41.4 in /home/bode-murairi/Documents/programming/courses/langchain-course/venv/lib/python3.13/site-packages (from pydantic<3.0.0,>=2.9.0->langchain-google-vertexai) (2.41.4)\n",
      "Requirement already satisfied: typing-inspection>=0.4.2 in /home/bode-murairi/Documents/programming/courses/langchain-course/venv/lib/python3.13/site-packages (from pydantic<3.0.0,>=2.9.0->langchain-google-vertexai) (0.4.2)\n",
      "Requirement already satisfied: six>=1.5 in /home/bode-murairi/Documents/programming/courses/langchain-course/venv/lib/python3.13/site-packages (from python-dateutil<3.0.0,>=2.8.2->google-cloud-bigquery!=3.20.0,<4.0.0,>=1.15.0->google-cloud-aiplatform<2.0.0,>=1.97.0->langchain-google-vertexai) (1.17.0)\n",
      "Requirement already satisfied: charset_normalizer<4,>=2 in /home/bode-murairi/Documents/programming/courses/langchain-course/venv/lib/python3.13/site-packages (from requests<3.0.0,>=2.18.0->google-api-core!=2.0.*,!=2.1.*,!=2.2.*,!=2.3.*,!=2.4.*,!=2.5.*,!=2.6.*,!=2.7.*,<3.0.0,>=1.34.1->google-api-core[grpc]!=2.0.*,!=2.1.*,!=2.2.*,!=2.3.*,!=2.4.*,!=2.5.*,!=2.6.*,!=2.7.*,<3.0.0,>=1.34.1->google-cloud-aiplatform<2.0.0,>=1.97.0->langchain-google-vertexai) (3.4.4)\n",
      "Requirement already satisfied: urllib3<3,>=1.21.1 in /home/bode-murairi/Documents/programming/courses/langchain-course/venv/lib/python3.13/site-packages (from requests<3.0.0,>=2.18.0->google-api-core!=2.0.*,!=2.1.*,!=2.2.*,!=2.3.*,!=2.4.*,!=2.5.*,!=2.6.*,!=2.7.*,<3.0.0,>=1.34.1->google-api-core[grpc]!=2.0.*,!=2.1.*,!=2.2.*,!=2.3.*,!=2.4.*,!=2.5.*,!=2.6.*,!=2.7.*,<3.0.0,>=1.34.1->google-cloud-aiplatform<2.0.0,>=1.97.0->langchain-google-vertexai) (2.5.0)\n",
      "Requirement already satisfied: pyasn1>=0.1.3 in /home/bode-murairi/Documents/programming/courses/langchain-course/venv/lib/python3.13/site-packages (from rsa<5,>=3.1.4->google-auth<3.0.0,>=2.14.1->google-cloud-aiplatform<2.0.0,>=1.97.0->langchain-google-vertexai) (0.6.1)\n",
      "Downloading langchain_google_vertexai-3.0.1-py3-none-any.whl (102 kB)\n",
      "Installing collected packages: langchain-google-vertexai\n",
      "  Attempting uninstall: langchain-google-vertexai\n",
      "    Found existing installation: langchain-google-vertexai 3.0.0\n",
      "    Uninstalling langchain-google-vertexai-3.0.0:\n",
      "      Successfully uninstalled langchain-google-vertexai-3.0.0\n",
      "Successfully installed langchain-google-vertexai-3.0.1\n",
      "Note: you may need to restart the kernel to use updated packages.\n"
     ]
    }
   ],
   "source": [
    "pip install -U langchain-google-vertexai"
   ]
  },
  {
   "cell_type": "code",
   "execution_count": 9,
   "id": "7e02b099",
   "metadata": {},
   "outputs": [
    {
     "name": "stderr",
     "output_type": "stream",
     "text": [
      "E0000 00:00:1761298331.432901   12401 alts_credentials.cc:93] ALTS creds ignored. Not running on GCP and untrusted ALTS is not enabled.\n"
     ]
    }
   ],
   "source": [
    "import os\n",
    "from dotenv import load_dotenv\n",
    "from langchain.chat_models import init_chat_model\n",
    "\n",
    "load_dotenv()\n",
    "\n",
    "API_KEY:str = os.environ.get(\"GEMINI_API_KEY\")\n",
    "if not API_KEY:\n",
    "    raise FileNotFoundError(\"No API KEY\")\n",
    "\n",
    "os.environ[\"GOOGLE_API_KEY\"] = API_KEY\n",
    "model = init_chat_model(f\"google_genai:{os.environ.get('GEMINI_AI_MODEL')}\")\n"
   ]
  },
  {
   "cell_type": "code",
   "execution_count": 10,
   "id": "612db8ea",
   "metadata": {},
   "outputs": [
    {
     "name": "stdout",
     "output_type": "stream",
     "text": [
      "{\"content\":\"Bode Murairi is a prominent Nigerian legal practitioner and politician.\\n\\nHe is particularly well-known for having served as the **Attorney General and Commissioner for Justice of Lagos State**.\\n\\nHe holds the prestigious rank of **Senior Advocate of Nigeria (SAN)**, which is the highest title awarded to legal practitioners in Nigeria who have distinguished themselves in the legal profession through their practice and contributions.\\n\\nMurairi is highly respected in legal and political circles for his extensive experience, legal acumen, and contributions to public service in Nigeria, particularly within Lagos State.\",\"additional_kwargs\":{},\"response_metadata\":{\"prompt_feedback\":{\"block_reason\":0,\"safety_ratings\":[]},\"finish_reason\":\"STOP\",\"model_name\":\"gemini-2.5-flash\",\"safety_ratings\":[],\"grounding_metadata\":{},\"model_provider\":\"google_genai\"},\"type\":\"ai\",\"name\":null,\"id\":\"lc_run--cb6ab632-def6-434a-8e7e-5f1f083a072d-0\",\"tool_calls\":[],\"invalid_tool_calls\":[],\"usage_metadata\":{\"input_tokens\":7,\"output_tokens\":923,\"total_tokens\":930,\"input_token_details\":{\"cache_read\":0},\"output_token_details\":{\"reasoning\":814}}}\n"
     ]
    },
    {
     "name": "stderr",
     "output_type": "stream",
     "text": [
      "/tmp/ipykernel_12401/2338929356.py:2: PydanticDeprecatedSince20: The `json` method is deprecated; use `model_dump_json` instead. Deprecated in Pydantic V2.0 to be removed in V3.0. See Pydantic V2 Migration Guide at https://errors.pydantic.dev/2.12/migration/\n",
      "  print(response.json())\n"
     ]
    }
   ],
   "source": [
    "response = model.invoke(\"Who is Bode Murairi?\")\n",
    "print(response.json())"
   ]
  },
  {
   "cell_type": "code",
   "execution_count": 13,
   "id": "3a87f19c",
   "metadata": {},
   "outputs": [
    {
     "name": "stderr",
     "output_type": "stream",
     "text": [
      "E0000 00:00:1761301526.788134   12401 alts_credentials.cc:93] ALTS creds ignored. Not running on GCP and untrusted ALTS is not enabled.\n"
     ]
    },
    {
     "name": "stdout",
     "output_type": "stream",
     "text": [
      "Getting a scholarship can significantly reduce the financial burden of education. It's a competitive process, but with a strategic approach, you can increase your chances. Here's a comprehensive guide:\n",
      "\n",
      "## Phase 1: Laying the Groundwork (Start Early!)\n",
      "\n",
      "The best time to start thinking about scholarships is early in high school, or even before, as many factors build over time.\n",
      "\n",
      "1.  **Academic Excellence:**\n",
      "    *   **Maintain a High GPA:** Many scholarships are merit-based and prioritize strong academic records.\n",
      "    *   **Take Challenging Courses:** AP, IB, honors, or dual enrollment courses demonstrate your ability to handle rigorous academics.\n",
      "    *   **Excel in Standardized Tests:** Prepare for and take the SAT/ACT. Many scholarships use these scores as a benchmark. Consider retaking if you think you can improve.\n",
      "\n",
      "2.  **Extracurricular Activities & Leadership:**\n",
      "    *   **Get Involved:** Join clubs, sports teams, debate teams, student government, or school publications.\n",
      "    *   **Seek Leadership Roles:** Don't just participate; aim for leadership positions (captain, president, editor, etc.). This shows initiative, responsibility, and impact.\n",
      "    *   **Quality over Quantity:** It's better to be deeply involved and show commitment to a few activities than to superficially join many.\n",
      "\n",
      "3.  **Community Service & Volunteering:**\n",
      "    *   **Make a Difference:** Volunteer for causes you care about. This demonstrates empathy, civic engagement, and a willingness to contribute to society.\n",
      "    *   **Track Your Hours:** Keep a log of your volunteer hours and the impact you made.\n",
      "\n",
      "4.  **Build Strong Relationships:**\n",
      "    *   **Teachers & Counselors:** Get to know your teachers and school counselor. They will be writing your letters of recommendation, so they need to know you well enough to speak to your strengths and character.\n",
      "    *   **Mentors:** Seek out mentors in fields that interest you.\n",
      "\n",
      "5.  **Identify Your \"Story\" or \"Brand\":**\n",
      "    *   What makes you unique? What are your passions, talents, challenges you've overcome, or goals? Scholarships want to fund individuals with potential and a clear sense of purpose.\n",
      "\n",
      "## Phase 2: Research & Identification\n",
      "\n",
      "This is where you find the scholarships that are the best fit for you.\n",
      "\n",
      "1.  **Start Your Search Broadly, Then Narrow Down:**\n",
      "    *   **Online Scholarship Databases:**\n",
      "        *   Fastweb.com\n",
      "        *   Scholarships.com\n",
      "        *   CollegeBoard.org's Scholarship Search\n",
      "        *   Niche.com\n",
      "        *   Cappex.com\n",
      "        *   Unigo.com\n",
      "        *   Scholly (app)\n",
      "    *   **Your School's Financial Aid Office/Counseling Department:** They often have lists of local and institutional scholarships.\n",
      "    *   **Your Target Universities:** Many colleges offer their own scholarships (merit-based, need-based, departmental). You're often automatically considered when you apply, but some require separate applications.\n",
      "    *   **Local Organizations:** Community foundations, Rotary Clubs, Lions Clubs, local businesses, churches, credit unions. These often have less competition.\n",
      "    *   **Parents' Employers:** Many companies offer scholarships for employees' children.\n",
      "    *   **Professional Organizations:** If you have a specific major in mind (e.g., engineering, nursing), look for scholarships from professional associations in that field.\n",
      "    *   **Affiliation-Based Scholarships:** Based on ethnicity, religion, gender, military service, specific talents (music, art, athletics), or unique hobbies.\n",
      "    *   **Government Scholarships:** Check state and federal government websites (though these are often grants or loans).\n",
      "\n",
      "2.  **Understand Eligibility Criteria:**\n",
      "    *   **Read Carefully:** Don't waste time applying for scholarships you don't qualify for. Pay attention to GPA requirements, major, residency, financial need, specific talents, etc.\n",
      "\n",
      "3.  **Organize Your Findings:**\n",
      "    *   Create a spreadsheet to track:\n",
      "        *   Scholarship Name\n",
      "        *   Website/Link\n",
      "        *   Eligibility Requirements\n",
      "        *   Deadline\n",
      "        *   Application Components (essay, recommendations, transcript, etc.)\n",
      "        *   Status (Applied, Waiting, Denied, Awarded)\n",
      "        *   Amount\n",
      "\n",
      "## Phase 3: The Application Process\n",
      "\n",
      "This is where you put your best foot forward.\n",
      "\n",
      "1.  **Read Instructions Meticulously:**\n",
      "    *   This is crucial. Missing a single requirement or formatting instruction can lead to immediate disqualification.\n",
      "\n",
      "2.  **Craft Compelling Essays:**\n",
      "    *   **Tailor Each Essay:** Do NOT use a generic essay for every application. Each essay should directly address the prompt and explain why *you* are the best candidate for *that specific scholarship*.\n",
      "    *   **Tell Your Story:** Use vivid language and specific examples to illustrate your experiences, challenges, growth, and aspirations.\n",
      "    *   **Show, Don't Just Tell:** Instead of saying \"I am a leader,\" describe a situation where you demonstrated leadership.\n",
      "    *   **Connect to the Scholarship's Mission:** If the scholarship is for community service, emphasize your service experiences and future plans.\n",
      "    *   **Proofread Relentlessly:** Typos and grammatical errors are unprofessional. Use grammar checkers, read aloud, and have trusted friends, teachers, or parents proofread.\n",
      "\n",
      "3.  **Secure Strong Letters of Recommendation:**\n",
      "    *   **Ask Early:** Give your recommenders plenty of time (at least 2-4 weeks notice).\n",
      "    *   **Provide Information:** Give them your resume, a list of your accomplishments, the scholarship's requirements, the essay you wrote (if applicable), and the deadline. Remind them of specific qualities or anecdotes you'd like them to highlight.\n",
      "    *   **Choose Wisely:** Select teachers or mentors who know you well and can speak genuinely about your character, abilities, and potential.\n",
      "\n",
      "4.  **Prepare Your Resume/Activity List:**\n",
      "    *   Clearly list your academic achievements, extracurricular activities, leadership roles, community service, work experience, and any awards or honors. Use action verbs.\n",
      "\n",
      "5.  **Gather Transcripts and Test Scores:**\n",
      "    *   Request official transcripts from your high school (and any colleges if you took dual enrollment courses) well in advance of deadlines.\n",
      "    *   Send official SAT/ACT scores directly from the testing agencies if required.\n",
      "\n",
      "6.  **Complete Financial Aid Forms (If Applicable):**\n",
      "    *   For need-based scholarships, you'll likely need to complete the Free Application for Federal Student Aid (FAFSA) and/or the CSS Profile. Do this as soon as they become available (usually October 1st).\n",
      "\n",
      "7.  **Submit On Time (or Early!):**\n",
      "    *   Late applications are almost never considered. Submit a few days before the deadline to avoid last-minute technical issues.\n",
      "\n",
      "## Phase 4: After Applying\n",
      "\n",
      "1.  **Prepare for Interviews:**\n",
      "    *   Some scholarships require an interview. Research the organization, practice answering common interview questions, and be ready to articulate your goals and why you deserve the scholarship. Dress professionally.\n",
      "\n",
      "2.  **Send Thank You Notes:**\n",
      "    *   Always send a thank-you note to anyone who wrote a recommendation for you or interviewed you.\n",
      "\n",
      "3.  **Be Patient:**\n",
      "    *   It can take weeks or months to hear back.\n",
      "\n",
      "4.  **Don't Give Up:**\n",
      "    *   Scholarships are a numbers game. The more qualified applications you submit, the higher your chances. If you don't get one, learn from the experience and keep applying to others.\n",
      "\n",
      "## Key Mindsets for Success:\n",
      "\n",
      "*   **Start Early:** The earlier you begin, the more time you have to build your profile and apply.\n",
      "*   **Be Persistent:** It takes effort and time. Don't get discouraged by rejections.\n",
      "*   **Be Authentic:** Let your true personality and passions shine through.\n",
      "*   **Seek Help:** Utilize your school counselor, teachers, and parents for guidance and proofreading.\n",
      "*   **Quantity AND Quality:** Apply to many scholarships, but make sure each application is well-crafted and tailored.\n",
      "\n",
      "Getting a scholarship is a significant achievement that requires dedication and strategic planning. Good luck!\n"
     ]
    }
   ],
   "source": [
    "from langchain_google_genai import ChatGoogleGenerativeAI\n",
    "\n",
    "response = ChatGoogleGenerativeAI(model = os.environ.get(\"GEMINI_AI_MODEL\"),\n",
    "                                  temperature=0.5,\n",
    "                                  top_p=0.85)\n",
    "print(response.invoke(\"How to get a scholarship\").text)"
   ]
  },
  {
   "cell_type": "code",
   "execution_count": null,
   "id": "5afa3407",
   "metadata": {},
   "outputs": [
    {
     "name": "stderr",
     "output_type": "stream",
     "text": [
      "E0000 00:00:1761303017.212266   12401 alts_credentials.cc:93] ALTS creds ignored. Not running on GCP and untrusted ALTS is not enabled.\n"
     ]
    },
    {
     "data": {
      "text/plain": [
       "'A gentle hand, a whispered word,\\nA quiet peace, profoundly stirred.\\nA steady flame, a guiding light,\\nMaking all the world feel right.'"
      ]
     },
     "execution_count": 14,
     "metadata": {},
     "output_type": "execute_result"
    }
   ],
   "source": [
    "# using LLM \n",
    "from langchain_google_genai import GoogleGenerativeAI\n",
    "\n",
    "response = GoogleGenerativeAI(model= os.environ.get(\"GEMINI_AI_MODEL\"),\n",
    "                              temperature=0.7\n",
    "                              )\n",
    "response.predict(\"Write a short poem about love\")"
   ]
  }
 ],
 "metadata": {
  "kernelspec": {
   "display_name": "venv (3.13.5)",
   "language": "python",
   "name": "python3"
  },
  "language_info": {
   "codemirror_mode": {
    "name": "ipython",
    "version": 3
   },
   "file_extension": ".py",
   "mimetype": "text/x-python",
   "name": "python",
   "nbconvert_exporter": "python",
   "pygments_lexer": "ipython3",
   "version": "3.13.5"
  }
 },
 "nbformat": 4,
 "nbformat_minor": 5
}
